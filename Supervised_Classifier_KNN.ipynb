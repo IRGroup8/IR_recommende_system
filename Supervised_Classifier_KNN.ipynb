{
 "cells": [
  {
   "cell_type": "markdown",
   "metadata": {},
   "source": [
    "<div style=\"direction:rtl; font-size:12px\">به نام خدا</div>\n",
    "<div style=\"direction:rtl; font-size:12px\">گروه 8 : آرمین افتخاری - محمد سلیمان بهزاد - محمدرضا پوررضا - رضا برزگر طرقبه - سبحان مرادیان دقیق</div>\n",
    "<div style=\"direction:rtl\"> در این بخش با استفاده از الگوریتم KNN که یک کلاسیفایر رایج در مبحث ماشین لرنینگ می باشد استفاده کرده ایم. با استفاده از این الگوریتم می توانیم داده های train خود را کلاستر بندی کنیم. سپس مدلی ترین کنیم و با استفاده از آن به ازای هر داده تست، یک همسایگی 10 تایی از شبیه ترین داده ها را پیدا می کنیم. توضیحات بیشتر و جزئی تر در داکیومنت و خلال کد ها داده شده است.</div>"
   ]
  },
  {
   "cell_type": "markdown",
   "metadata": {},
   "source": [
    "### Implementation of KNN"
   ]
  },
  {
   "cell_type": "code",
   "execution_count": 1,
   "metadata": {},
   "outputs": [],
   "source": [
    "import pandas as pd\n",
    "import numpy as np\n",
    "from sklearn.neighbors import NearestNeighbors , KNeighborsClassifier\n",
    "from scipy.sparse import csr_matrix\n",
    "from sklearn.model_selection import train_test_split\n",
    "from sklearn.cluster import KMeans\n",
    "import matplotlib.pyplot as plt\n",
    "import pickle\n",
    "from sklearn.metrics import accuracy_score\n",
    "from sklearn.preprocessing import LabelEncoder"
   ]
  },
  {
   "cell_type": "markdown",
   "metadata": {},
   "source": [
    "### Reading the dataset which was preprocessed"
   ]
  },
  {
   "cell_type": "code",
   "execution_count": 2,
   "metadata": {},
   "outputs": [],
   "source": [
    "book_ratings = pd.read_csv('preprocessed_ratings.csv')"
   ]
  },
  {
   "cell_type": "code",
   "execution_count": 3,
   "metadata": {
    "scrolled": false
   },
   "outputs": [
    {
     "data": {
      "text/html": [
       "<div>\n",
       "<style scoped>\n",
       "    .dataframe tbody tr th:only-of-type {\n",
       "        vertical-align: middle;\n",
       "    }\n",
       "\n",
       "    .dataframe tbody tr th {\n",
       "        vertical-align: top;\n",
       "    }\n",
       "\n",
       "    .dataframe thead th {\n",
       "        text-align: right;\n",
       "    }\n",
       "</style>\n",
       "<table border=\"1\" class=\"dataframe\">\n",
       "  <thead>\n",
       "    <tr style=\"text-align: right;\">\n",
       "      <th></th>\n",
       "      <th>User_ID</th>\n",
       "      <th>ISBN</th>\n",
       "      <th>Book_Rating</th>\n",
       "      <th>Book_Title</th>\n",
       "      <th>Book_Author</th>\n",
       "      <th>Year_Of_Publication</th>\n",
       "      <th>Publisher</th>\n",
       "      <th>Location</th>\n",
       "      <th>Age</th>\n",
       "    </tr>\n",
       "  </thead>\n",
       "  <tbody>\n",
       "    <tr>\n",
       "      <th>0</th>\n",
       "      <td>53</td>\n",
       "      <td>451</td>\n",
       "      <td>0</td>\n",
       "      <td>Flesh Tones: A Novel</td>\n",
       "      <td>M. J. Rose</td>\n",
       "      <td>2002</td>\n",
       "      <td>Ballantine Books</td>\n",
       "      <td>strafford, missouri, usa</td>\n",
       "      <td>34.0</td>\n",
       "    </tr>\n",
       "    <tr>\n",
       "      <th>1</th>\n",
       "      <td>53</td>\n",
       "      <td>280</td>\n",
       "      <td>0</td>\n",
       "      <td>The Lovely Bones: A Novel</td>\n",
       "      <td>Alice Sebold</td>\n",
       "      <td>2002</td>\n",
       "      <td>Little, Brown</td>\n",
       "      <td>strafford, missouri, usa</td>\n",
       "      <td>34.0</td>\n",
       "    </tr>\n",
       "    <tr>\n",
       "      <th>2</th>\n",
       "      <td>53</td>\n",
       "      <td>647</td>\n",
       "      <td>0</td>\n",
       "      <td>The Da Vinci Code</td>\n",
       "      <td>Dan Brown</td>\n",
       "      <td>2003</td>\n",
       "      <td>Doubleday</td>\n",
       "      <td>strafford, missouri, usa</td>\n",
       "      <td>34.0</td>\n",
       "    </tr>\n",
       "    <tr>\n",
       "      <th>3</th>\n",
       "      <td>53</td>\n",
       "      <td>2028</td>\n",
       "      <td>0</td>\n",
       "      <td>Wild Animus</td>\n",
       "      <td>Rich Shapero</td>\n",
       "      <td>2004</td>\n",
       "      <td>Too Far</td>\n",
       "      <td>strafford, missouri, usa</td>\n",
       "      <td>34.0</td>\n",
       "    </tr>\n",
       "    <tr>\n",
       "      <th>4</th>\n",
       "      <td>53</td>\n",
       "      <td>241</td>\n",
       "      <td>0</td>\n",
       "      <td>Four To Score (A Stephanie Plum Novel)</td>\n",
       "      <td>Janet Evanovich</td>\n",
       "      <td>1999</td>\n",
       "      <td>St. Martin's Paperbacks</td>\n",
       "      <td>strafford, missouri, usa</td>\n",
       "      <td>34.0</td>\n",
       "    </tr>\n",
       "  </tbody>\n",
       "</table>\n",
       "</div>"
      ],
      "text/plain": [
       "   User_ID  ISBN  Book_Rating                              Book_Title  \\\n",
       "0       53   451            0                    Flesh Tones: A Novel   \n",
       "1       53   280            0               The Lovely Bones: A Novel   \n",
       "2       53   647            0                       The Da Vinci Code   \n",
       "3       53  2028            0                             Wild Animus   \n",
       "4       53   241            0  Four To Score (A Stephanie Plum Novel)   \n",
       "\n",
       "       Book_Author  Year_Of_Publication                Publisher  \\\n",
       "0       M. J. Rose                 2002         Ballantine Books   \n",
       "1     Alice Sebold                 2002            Little, Brown   \n",
       "2        Dan Brown                 2003                Doubleday   \n",
       "3     Rich Shapero                 2004                  Too Far   \n",
       "4  Janet Evanovich                 1999  St. Martin's Paperbacks   \n",
       "\n",
       "                   Location   Age  \n",
       "0  strafford, missouri, usa  34.0  \n",
       "1  strafford, missouri, usa  34.0  \n",
       "2  strafford, missouri, usa  34.0  \n",
       "3  strafford, missouri, usa  34.0  \n",
       "4  strafford, missouri, usa  34.0  "
      ]
     },
     "execution_count": 3,
     "metadata": {},
     "output_type": "execute_result"
    }
   ],
   "source": [
    "book_ratings.head()"
   ]
  },
  {
   "cell_type": "markdown",
   "metadata": {},
   "source": [
    "### Filtering the book attrs"
   ]
  },
  {
   "cell_type": "code",
   "execution_count": 4,
   "metadata": {},
   "outputs": [],
   "source": [
    "books = book_ratings.filter(['Book_Title' , 'Book_Author', 'Year_Of_Publication','Publisher', 'Book_Rating']).copy()\n",
    "books = books.drop_duplicates(subset='Book_Title', keep='first')"
   ]
  },
  {
   "cell_type": "markdown",
   "metadata": {},
   "source": [
    "### Loading the similarity matrix "
   ]
  },
  {
   "cell_type": "code",
   "execution_count": 5,
   "metadata": {},
   "outputs": [],
   "source": [
    " with open('sim_matrix', 'rb') as fp:\n",
    "    sim_matrix = pickle.load(fp)"
   ]
  },
  {
   "cell_type": "markdown",
   "metadata": {},
   "source": [
    "### Finding the best amount of k using Elbow "
   ]
  },
  {
   "cell_type": "code",
   "execution_count": 19,
   "metadata": {},
   "outputs": [
    {
     "data": {
      "image/png": "[encoded data removed]",
      "text/plain": [
       "<Figure size 432x288 with 1 Axes>"
      ]
     },
     "metadata": {
      "needs_background": "light"
     },
     "output_type": "display_data"
    }
   ],
   "source": [
    "sum_of_squared_distances = []\n",
    "K = range(1,20)\n",
    "\n",
    "for k in K:\n",
    "    km = KMeans(n_clusters=k, n_init=20)\n",
    "    km = km.fit(sim_matrix)\n",
    "    sum_of_squared_distances.append(km.inertia_)\n",
    "\n",
    "plt.plot(K, sum_of_squared_distances, 'bx-')\n",
    "plt.xlabel('k')\n",
    "plt.ylabel('sum_of_squared_distances')\n",
    "plt.title('Elbow Method For Optimal k')\n",
    "plt.show()"
   ]
  },
  {
   "cell_type": "markdown",
   "metadata": {},
   "source": [
    "### So according to the plot, decide to take the k=7"
   ]
  },
  {
   "cell_type": "code",
   "execution_count": 7,
   "metadata": {},
   "outputs": [],
   "source": [
    "true_k =7\n",
    "model = KMeans(n_clusters=true_k, init='k-means++', max_iter=100, n_init=50)\n",
    "model.fit(sim_matrix)\n",
    "labels=model.labels_\n",
    "books['label'] = labels"
   ]
  },
  {
   "cell_type": "markdown",
   "metadata": {},
   "source": [
    "### Now we have a Supervised dataset"
   ]
  },
  {
   "cell_type": "markdown",
   "metadata": {},
   "source": [
    "### Splite it into train and test"
   ]
  },
  {
   "cell_type": "code",
   "execution_count": 9,
   "metadata": {},
   "outputs": [],
   "source": [
    "def splitter(dataset):\n",
    "    \n",
    "    dataset = dataset.sort_values('Book_Rating', ascending=False)\n",
    "\n",
    "    test_range = round(len(dataset) * 0.2)\n",
    "    test_data = books.iloc[:test_range]\n",
    "    train_data = books.iloc[test_range:]\n",
    "    \n",
    "    return train_data, test_data"
   ]
  },
  {
   "cell_type": "code",
   "execution_count": 10,
   "metadata": {},
   "outputs": [],
   "source": [
    "train_data , test_data = splitter(books)\n",
    "test_data = test_data.reset_index(drop=True)"
   ]
  },
  {
   "cell_type": "code",
   "execution_count": 11,
   "metadata": {},
   "outputs": [
    {
     "data": {
      "text/plain": [
       "(1530, 383)"
      ]
     },
     "execution_count": 11,
     "metadata": {},
     "output_type": "execute_result"
    }
   ],
   "source": [
    "len(train_data), len(test_data)"
   ]
  },
  {
   "cell_type": "code",
   "execution_count": 12,
   "metadata": {},
   "outputs": [],
   "source": [
    "train_X = train_data.drop(['label'],axis=1)\n",
    "train_Y = train_data['label']\n",
    "\n",
    "test_X = test_data.drop(['label'],axis=1)\n",
    "test_Y = test_data['label']"
   ]
  },
  {
   "cell_type": "markdown",
   "metadata": {},
   "source": [
    "### Use a LabelEncoder "
   ]
  },
  {
   "cell_type": "code",
   "execution_count": 13,
   "metadata": {},
   "outputs": [],
   "source": [
    "encoder = LabelEncoder()\n",
    "for col in train_X.columns:\n",
    "    train_X[col] = encoder.fit_transform(train_X[col])\n",
    "    \n",
    "for col in test_X.columns :\n",
    "    test_X[col] = encoder.fit_transform(test_X[col])"
   ]
  },
  {
   "cell_type": "markdown",
   "metadata": {},
   "source": [
    "### And now try to make a KNN model for our train dataset and after that make a prediction"
   ]
  },
  {
   "cell_type": "code",
   "execution_count": 14,
   "metadata": {
    "scrolled": true
   },
   "outputs": [],
   "source": [
    "knn = KNeighborsClassifier(n_neighbors=20, algorithm='auto', weights='distance')\n",
    "knn.fit(train_X, train_Y)\n",
    "predict = knn.predict(test_X)"
   ]
  },
  {
   "cell_type": "markdown",
   "metadata": {},
   "source": [
    "### Here we go its time to use our recommendation system "
   ]
  },
  {
   "cell_type": "code",
   "execution_count": 15,
   "metadata": {},
   "outputs": [],
   "source": [
    "def recommender(book_title):\n",
    "    book_index = test_data[test_data[\"Book_Title\"] == book_title].index.tolist()[0]\n",
    "    label = predict[book_index]\n",
    "    similar_items = train_data[train_data['label'] == label].Book_Title.iloc[:10,]\n",
    "    return similar_items"
   ]
  },
  {
   "cell_type": "markdown",
   "metadata": {},
   "source": [
    "### Top 10 recommended books for the input one"
   ]
  },
  {
   "cell_type": "code",
   "execution_count": 16,
   "metadata": {},
   "outputs": [
    {
     "data": {
      "text/plain": [
       "457                        Daisy Fay and the Miracle Man\n",
       "458                                         Cold Blooded\n",
       "464                                   Nights in Rodanthe\n",
       "465                                  The Grapes of Wrath\n",
       "466                                       Kiss the Girls\n",
       "467              Seven Habits Of Highly Effective People\n",
       "468                                      Mother of Pearl\n",
       "470    Valley of the Horses (Auel, Jean M. , Earth's ...\n",
       "471    Confessions of a Shopaholic (Summer Display Op...\n",
       "473                                      Cold Sassy Tree\n",
       "Name: Book_Title, dtype: object"
      ]
     },
     "execution_count": 16,
     "metadata": {},
     "output_type": "execute_result"
    }
   ],
   "source": [
    "recommender('The Lovely Bones: A Novel')"
   ]
  },
  {
   "cell_type": "markdown",
   "metadata": {},
   "source": [
    "### Finaly, here is the accuracy for our recommendation :))"
   ]
  },
  {
   "cell_type": "code",
   "execution_count": 17,
   "metadata": {},
   "outputs": [
    {
     "data": {
      "text/plain": [
       "0.825065274151436"
      ]
     },
     "execution_count": 17,
     "metadata": {},
     "output_type": "execute_result"
    }
   ],
   "source": [
    "accuracy_score(test_Y, predict)"
   ]
  },
  {
   "cell_type": "code",
   "execution_count": null,
   "metadata": {},
   "outputs": [],
   "source": []
  },
  {
   "cell_type": "markdown",
   "metadata": {},
   "source": [
    "### Yohaa"
   ]
  }
 ],
 "metadata": {
  "kernelspec": {
   "display_name": "Python 3",
   "language": "python",
   "name": "python3"
  },
  "language_info": {
   "codemirror_mode": {
    "name": "ipython",
    "version": 3
   },
   "file_extension": ".py",
   "mimetype": "text/x-python",
   "name": "python",
   "nbconvert_exporter": "python",
   "pygments_lexer": "ipython3",
   "version": "3.8.6"
  }
 },
 "nbformat": 4,
 "nbformat_minor": 4
}
