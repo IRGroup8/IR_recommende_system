{
 "cells": [
  {
   "cell_type": "markdown",
   "metadata": {},
   "source": [
    "<div style=\"direction:rtl; font-size:12px\">به نام خدا</div>\n",
    "<div style=\"direction:rtl; font-size:12px\">گروه 8 : آرمین افتخاری - محمد سلیمان بهزاد - محمدرضا پوررضا - رضا برزگر طرقبه - سبحان مرادیان دقیق</div>\n",
    "<div style=\"direction:rtl\"> در این بخش ماتریس شباهتی برای کاربر ها و ماتریس شباهتی برای آیتم ها بر اساس شباهت بین محتوی هریک از آن ها خواهیم ساخت. سپس با استفاده\n",
    "از اشتراک بین این شباهت ها و شباهت های به دست آمده از بخش collaborative filtering الگوریتمی\n",
    "ترکیبی برای به دست آوردن نتیجه بهتر و منطقی تر خواهیم داشت.\n",
    "توضیحات بیشتر و جزئی تر در داکیومنت و خلال کد داده شده است.</div>"
   ]
  },
  {
   "cell_type": "markdown",
   "metadata": {},
   "source": [
    "### Implementation of Content-Base filtering "
   ]
  },
  {
   "cell_type": "code",
   "execution_count": 1,
   "metadata": {},
   "outputs": [],
   "source": [
    "import numpy as np\n",
    "import pandas as pd\n",
    "from sklearn.feature_extraction.text import TfidfVectorizer\n",
    "from sklearn.metrics.pairwise import linear_kernel\n",
    "import warnings\n",
    "warnings.filterwarnings(\"ignore\")"
   ]
  },
  {
   "cell_type": "markdown",
   "metadata": {},
   "source": [
    "### Reading the dataset"
   ]
  },
  {
   "cell_type": "code",
   "execution_count": 2,
   "metadata": {},
   "outputs": [],
   "source": [
    "dataset = pd.read_csv('preprocessed_ratings.csv', sep=',', error_bad_lines=False, encoding='latin-1')"
   ]
  },
  {
   "cell_type": "code",
   "execution_count": 3,
   "metadata": {
    "scrolled": true
   },
   "outputs": [
    {
     "data": {
      "text/html": [
       "<div>\n",
       "<style scoped>\n",
       "    .dataframe tbody tr th:only-of-type {\n",
       "        vertical-align: middle;\n",
       "    }\n",
       "\n",
       "    .dataframe tbody tr th {\n",
       "        vertical-align: top;\n",
       "    }\n",
       "\n",
       "    .dataframe thead th {\n",
       "        text-align: right;\n",
       "    }\n",
       "</style>\n",
       "<table border=\"1\" class=\"dataframe\">\n",
       "  <thead>\n",
       "    <tr style=\"text-align: right;\">\n",
       "      <th></th>\n",
       "      <th>User_ID</th>\n",
       "      <th>ISBN</th>\n",
       "      <th>Book_Rating</th>\n",
       "      <th>Book_Title</th>\n",
       "      <th>Book_Author</th>\n",
       "      <th>Year_Of_Publication</th>\n",
       "      <th>Publisher</th>\n",
       "      <th>Location</th>\n",
       "      <th>Age</th>\n",
       "    </tr>\n",
       "  </thead>\n",
       "  <tbody>\n",
       "    <tr>\n",
       "      <th>0</th>\n",
       "      <td>53</td>\n",
       "      <td>451</td>\n",
       "      <td>0</td>\n",
       "      <td>Flesh Tones: A Novel</td>\n",
       "      <td>M. J. Rose</td>\n",
       "      <td>2002</td>\n",
       "      <td>Ballantine Books</td>\n",
       "      <td>strafford, missouri, usa</td>\n",
       "      <td>34.0</td>\n",
       "    </tr>\n",
       "    <tr>\n",
       "      <th>1</th>\n",
       "      <td>53</td>\n",
       "      <td>280</td>\n",
       "      <td>0</td>\n",
       "      <td>The Lovely Bones: A Novel</td>\n",
       "      <td>Alice Sebold</td>\n",
       "      <td>2002</td>\n",
       "      <td>Little, Brown</td>\n",
       "      <td>strafford, missouri, usa</td>\n",
       "      <td>34.0</td>\n",
       "    </tr>\n",
       "    <tr>\n",
       "      <th>2</th>\n",
       "      <td>53</td>\n",
       "      <td>647</td>\n",
       "      <td>0</td>\n",
       "      <td>The Da Vinci Code</td>\n",
       "      <td>Dan Brown</td>\n",
       "      <td>2003</td>\n",
       "      <td>Doubleday</td>\n",
       "      <td>strafford, missouri, usa</td>\n",
       "      <td>34.0</td>\n",
       "    </tr>\n",
       "    <tr>\n",
       "      <th>3</th>\n",
       "      <td>53</td>\n",
       "      <td>2028</td>\n",
       "      <td>0</td>\n",
       "      <td>Wild Animus</td>\n",
       "      <td>Rich Shapero</td>\n",
       "      <td>2004</td>\n",
       "      <td>Too Far</td>\n",
       "      <td>strafford, missouri, usa</td>\n",
       "      <td>34.0</td>\n",
       "    </tr>\n",
       "    <tr>\n",
       "      <th>4</th>\n",
       "      <td>53</td>\n",
       "      <td>241</td>\n",
       "      <td>0</td>\n",
       "      <td>Four To Score (A Stephanie Plum Novel)</td>\n",
       "      <td>Janet Evanovich</td>\n",
       "      <td>1999</td>\n",
       "      <td>St. Martin's Paperbacks</td>\n",
       "      <td>strafford, missouri, usa</td>\n",
       "      <td>34.0</td>\n",
       "    </tr>\n",
       "  </tbody>\n",
       "</table>\n",
       "</div>"
      ],
      "text/plain": [
       "   User_ID  ISBN  Book_Rating                              Book_Title  \\\n",
       "0       53   451            0                    Flesh Tones: A Novel   \n",
       "1       53   280            0               The Lovely Bones: A Novel   \n",
       "2       53   647            0                       The Da Vinci Code   \n",
       "3       53  2028            0                             Wild Animus   \n",
       "4       53   241            0  Four To Score (A Stephanie Plum Novel)   \n",
       "\n",
       "       Book_Author  Year_Of_Publication                Publisher  \\\n",
       "0       M. J. Rose                 2002         Ballantine Books   \n",
       "1     Alice Sebold                 2002            Little, Brown   \n",
       "2        Dan Brown                 2003                Doubleday   \n",
       "3     Rich Shapero                 2004                  Too Far   \n",
       "4  Janet Evanovich                 1999  St. Martin's Paperbacks   \n",
       "\n",
       "                   Location   Age  \n",
       "0  strafford, missouri, usa  34.0  \n",
       "1  strafford, missouri, usa  34.0  \n",
       "2  strafford, missouri, usa  34.0  \n",
       "3  strafford, missouri, usa  34.0  \n",
       "4  strafford, missouri, usa  34.0  "
      ]
     },
     "execution_count": 3,
     "metadata": {},
     "output_type": "execute_result"
    }
   ],
   "source": [
    "dataset.head()"
   ]
  },
  {
   "cell_type": "markdown",
   "metadata": {},
   "source": [
    "### Filtering the dataset in order to get books contents"
   ]
  },
  {
   "cell_type": "code",
   "execution_count": 4,
   "metadata": {
    "scrolled": true
   },
   "outputs": [],
   "source": [
    "books = dataset.filter(['Book_Title' , 'Book-Author', 'Year_Of_Publication','Publisher']).copy()\n",
    "books = books.drop_duplicates(subset='Book_Title', keep='first')\n",
    "\n",
    "users = dataset.filter(['User_ID', 'Location', 'Age']).copy()\n",
    "users = users.drop_duplicates(subset='User_ID', keep='first')"
   ]
  },
  {
   "cell_type": "code",
   "execution_count": 5,
   "metadata": {
    "scrolled": true
   },
   "outputs": [
    {
     "data": {
      "text/html": [
       "<div>\n",
       "<style scoped>\n",
       "    .dataframe tbody tr th:only-of-type {\n",
       "        vertical-align: middle;\n",
       "    }\n",
       "\n",
       "    .dataframe tbody tr th {\n",
       "        vertical-align: top;\n",
       "    }\n",
       "\n",
       "    .dataframe thead th {\n",
       "        text-align: right;\n",
       "    }\n",
       "</style>\n",
       "<table border=\"1\" class=\"dataframe\">\n",
       "  <thead>\n",
       "    <tr style=\"text-align: right;\">\n",
       "      <th></th>\n",
       "      <th>Book_Title</th>\n",
       "      <th>Year_Of_Publication</th>\n",
       "      <th>Publisher</th>\n",
       "    </tr>\n",
       "  </thead>\n",
       "  <tbody>\n",
       "    <tr>\n",
       "      <th>0</th>\n",
       "      <td>Flesh Tones: A Novel</td>\n",
       "      <td>2002</td>\n",
       "      <td>Ballantine Books</td>\n",
       "    </tr>\n",
       "    <tr>\n",
       "      <th>1</th>\n",
       "      <td>The Lovely Bones: A Novel</td>\n",
       "      <td>2002</td>\n",
       "      <td>Little, Brown</td>\n",
       "    </tr>\n",
       "    <tr>\n",
       "      <th>2</th>\n",
       "      <td>The Da Vinci Code</td>\n",
       "      <td>2003</td>\n",
       "      <td>Doubleday</td>\n",
       "    </tr>\n",
       "    <tr>\n",
       "      <th>3</th>\n",
       "      <td>Wild Animus</td>\n",
       "      <td>2004</td>\n",
       "      <td>Too Far</td>\n",
       "    </tr>\n",
       "    <tr>\n",
       "      <th>4</th>\n",
       "      <td>Four To Score (A Stephanie Plum Novel)</td>\n",
       "      <td>1999</td>\n",
       "      <td>St. Martin's Paperbacks</td>\n",
       "    </tr>\n",
       "  </tbody>\n",
       "</table>\n",
       "</div>"
      ],
      "text/plain": [
       "                               Book_Title  Year_Of_Publication  \\\n",
       "0                    Flesh Tones: A Novel                 2002   \n",
       "1               The Lovely Bones: A Novel                 2002   \n",
       "2                       The Da Vinci Code                 2003   \n",
       "3                             Wild Animus                 2004   \n",
       "4  Four To Score (A Stephanie Plum Novel)                 1999   \n",
       "\n",
       "                 Publisher  \n",
       "0         Ballantine Books  \n",
       "1            Little, Brown  \n",
       "2                Doubleday  \n",
       "3                  Too Far  \n",
       "4  St. Martin's Paperbacks  "
      ]
     },
     "execution_count": 5,
     "metadata": {},
     "output_type": "execute_result"
    }
   ],
   "source": [
    "books.head()"
   ]
  },
  {
   "cell_type": "code",
   "execution_count": 6,
   "metadata": {},
   "outputs": [
    {
     "data": {
      "text/plain": [
       "User_ID                           53\n",
       "Location    strafford, missouri, usa\n",
       "Age                               34\n",
       "Name: 0, dtype: object"
      ]
     },
     "execution_count": 6,
     "metadata": {},
     "output_type": "execute_result"
    }
   ],
   "source": [
    "users.iloc[0]"
   ]
  },
  {
   "cell_type": "markdown",
   "metadata": {},
   "source": [
    "### Making the similarity matrix"
   ]
  },
  {
   "cell_type": "code",
   "execution_count": 7,
   "metadata": {},
   "outputs": [],
   "source": [
    "def similarity_matrix(dataset):\n",
    "    string = dataset.to_string(header=False,index=False).split('\\n')\n",
    "    tfidf = TfidfVectorizer(stop_words='english')\n",
    "    dataset_matrix = tfidf.fit_transform(string)\n",
    "    similar_matrix = linear_kernel(dataset_matrix,dataset_matrix)\n",
    "    return similar_matrix"
   ]
  },
  {
   "cell_type": "code",
   "execution_count": null,
   "metadata": {},
   "outputs": [],
   "source": [
    "with open('sim_matrix', 'wb') as fp:\n",
    "        pickle.dump(similarity_matrix(books), fp)"
   ]
  },
  {
   "cell_type": "markdown",
   "metadata": {},
   "source": [
    "### Map the 'Book_Title's to their indexes for easy extracting"
   ]
  },
  {
   "cell_type": "code",
   "execution_count": 8,
   "metadata": {},
   "outputs": [
    {
     "data": {
      "text/plain": [
       "User_ID\n",
       "53           0\n",
       "94         100\n",
       "217        172\n",
       "273        612\n",
       "586        679\n",
       "         ...  \n",
       "1250    137561\n",
       "2332    137567\n",
       "482     137568\n",
       "1666    137570\n",
       "2580    137572\n",
       "Length: 2954, dtype: int64"
      ]
     },
     "execution_count": 8,
     "metadata": {},
     "output_type": "execute_result"
    }
   ],
   "source": [
    "book_mapping = pd.Series(books.index,index = books['Book_Title'])\n",
    "user_mapping = pd.Series(users.index,index = users['User_ID'])\n",
    "user_mapping"
   ]
  },
  {
   "cell_type": "markdown",
   "metadata": {},
   "source": [
    "### Now define a function which get index of a book, and then returns the scores of the most similar books"
   ]
  },
  {
   "cell_type": "code",
   "execution_count": 9,
   "metadata": {},
   "outputs": [],
   "source": [
    "def cal_sim_score(similarity_matrix,book_index):\n",
    "    # Get similarity values with other books\n",
    "    # Similarity_score is the list of index and similarity matrix\n",
    "    similarity_score = list(enumerate(similarity_matrix[book_index])) # Sort in descending order the similarity score of book inputted with all the other books\n",
    "    similarity_score = sorted(similarity_score, key=lambda x: x[1], reverse=True) # Get the scores of the 100 most similar books. Ignore the first book.\n",
    "    similarity_score = similarity_score[1:101] # Return book names using the mapping series\n",
    "    return similarity_score"
   ]
  },
  {
   "cell_type": "markdown",
   "metadata": {},
   "source": [
    "### Define a function which get name of a book and returns most similar books to it"
   ]
  },
  {
   "cell_type": "code",
   "execution_count": 10,
   "metadata": {},
   "outputs": [],
   "source": [
    "def recommend_books(book):\n",
    "    book_index = book_mapping[book]\n",
    "    sim_matrix = similarity_matrix(books)\n",
    "    similarity_score= cal_sim_score(sim_matrix,book_index)\n",
    "    book_indices = [i[0] for i in similarity_score]\n",
    "    return (books['Book_Title'].iloc[book_indices])"
   ]
  },
  {
   "cell_type": "markdown",
   "metadata": {},
   "source": [
    "### Define a function which get id of a user and returns most similar users"
   ]
  },
  {
   "cell_type": "code",
   "execution_count": 11,
   "metadata": {},
   "outputs": [],
   "source": [
    "def similar_users(user):\n",
    "    user_index = user_mapping[user]\n",
    "    sim_matrix = similarity_matrix(users)\n",
    "    similarity_score = cal_sim_score(sim_matrix,user_index)\n",
    "    user_indices = [i[0] for i in similarity_score]\n",
    "    return (users['User_ID'].iloc[user_indices])"
   ]
  },
  {
   "cell_type": "markdown",
   "metadata": {},
   "source": [
    "### Let's test our work"
   ]
  },
  {
   "cell_type": "markdown",
   "metadata": {},
   "source": [
    "### The 10 most similar books to the input book"
   ]
  },
  {
   "cell_type": "code",
   "execution_count": 12,
   "metadata": {},
   "outputs": [
    {
     "data": {
      "text/plain": [
       "832              The Lovely Bones\n",
       "529            Sea Glass: A Novel\n",
       "221               The Beach House\n",
       "1032                 Nine Stories\n",
       "240      White Oleander : A Novel\n",
       "958            All He Ever Wanted\n",
       "931               Four Blind Mice\n",
       "939                The Lake House\n",
       "17                     The Jester\n",
       "930     The Big Bad Wolf: A Novel\n",
       "Name: Book_Title, dtype: object"
      ]
     },
     "execution_count": 12,
     "metadata": {},
     "output_type": "execute_result"
    }
   ],
   "source": [
    "book_recommended = recommend_books('The Lovely Bones: A Novel')\n",
    "book_recommended[:10]"
   ]
  },
  {
   "cell_type": "markdown",
   "metadata": {},
   "source": [
    "### The 10 most similar users to the input user"
   ]
  },
  {
   "cell_type": "code",
   "execution_count": 13,
   "metadata": {},
   "outputs": [
    {
     "data": {
      "text/plain": [
       "132009    1829\n",
       "113138     359\n",
       "97148     1645\n",
       "93796     1090\n",
       "95310     1979\n",
       "          ... \n",
       "99430     1911\n",
       "119227     265\n",
       "126910     490\n",
       "20528     2730\n",
       "85320     1078\n",
       "Name: User_ID, Length: 100, dtype: int64"
      ]
     },
     "execution_count": 13,
     "metadata": {},
     "output_type": "execute_result"
    }
   ],
   "source": [
    "user_recommended = similar_users(53)\n",
    "user_recommended"
   ]
  },
  {
   "cell_type": "code",
   "execution_count": null,
   "metadata": {},
   "outputs": [],
   "source": []
  },
  {
   "cell_type": "markdown",
   "metadata": {},
   "source": [
    "### Ok now wanna combine the two collaborative and content-base filters"
   ]
  },
  {
   "cell_type": "markdown",
   "metadata": {},
   "source": [
    "### Read the fataset which is outputs of collaborative part"
   ]
  },
  {
   "cell_type": "code",
   "execution_count": 14,
   "metadata": {},
   "outputs": [
    {
     "data": {
      "text/html": [
       "<div>\n",
       "<style scoped>\n",
       "    .dataframe tbody tr th:only-of-type {\n",
       "        vertical-align: middle;\n",
       "    }\n",
       "\n",
       "    .dataframe tbody tr th {\n",
       "        vertical-align: top;\n",
       "    }\n",
       "\n",
       "    .dataframe thead th {\n",
       "        text-align: right;\n",
       "    }\n",
       "</style>\n",
       "<table border=\"1\" class=\"dataframe\">\n",
       "  <thead>\n",
       "    <tr style=\"text-align: right;\">\n",
       "      <th></th>\n",
       "      <th>book_c</th>\n",
       "      <th>book_p</th>\n",
       "      <th>user_c</th>\n",
       "      <th>user_p</th>\n",
       "    </tr>\n",
       "  </thead>\n",
       "  <tbody>\n",
       "    <tr>\n",
       "      <th>0</th>\n",
       "      <td>The Last Juror</td>\n",
       "      <td>Split Second</td>\n",
       "      <td>2184.0</td>\n",
       "      <td>1288.0</td>\n",
       "    </tr>\n",
       "    <tr>\n",
       "      <th>1</th>\n",
       "      <td>American Gods: A Novel</td>\n",
       "      <td>Ruby (Landry)</td>\n",
       "      <td>273.0</td>\n",
       "      <td>217.0</td>\n",
       "    </tr>\n",
       "    <tr>\n",
       "      <th>2</th>\n",
       "      <td>A Patchwork Planet</td>\n",
       "      <td>Coraline</td>\n",
       "      <td>812.0</td>\n",
       "      <td>1709.0</td>\n",
       "    </tr>\n",
       "    <tr>\n",
       "      <th>3</th>\n",
       "      <td>Now You See Me</td>\n",
       "      <td>Blow Fly: A Scarpetta Novel</td>\n",
       "      <td>1288.0</td>\n",
       "      <td>1535.0</td>\n",
       "    </tr>\n",
       "    <tr>\n",
       "      <th>4</th>\n",
       "      <td>Gone with the Wind</td>\n",
       "      <td>2nd Chance</td>\n",
       "      <td>860.0</td>\n",
       "      <td>2396.0</td>\n",
       "    </tr>\n",
       "  </tbody>\n",
       "</table>\n",
       "</div>"
      ],
      "text/plain": [
       "                   book_c                       book_p  user_c  user_p\n",
       "0          The Last Juror                 Split Second  2184.0  1288.0\n",
       "1  American Gods: A Novel                Ruby (Landry)   273.0   217.0\n",
       "2      A Patchwork Planet                     Coraline   812.0  1709.0\n",
       "3          Now You See Me  Blow Fly: A Scarpetta Novel  1288.0  1535.0\n",
       "4      Gone with the Wind                   2nd Chance   860.0  2396.0"
      ]
     },
     "execution_count": 14,
     "metadata": {},
     "output_type": "execute_result"
    }
   ],
   "source": [
    "collaborative_outputs = pd.read_csv('collaborativeOutputs.csv')\n",
    "collaborative_outputs.head()"
   ]
  },
  {
   "cell_type": "markdown",
   "metadata": {},
   "source": [
    "### Here we go :)"
   ]
  },
  {
   "cell_type": "markdown",
   "metadata": {},
   "source": [
    "### The combination of a Collaborative and Content-base filtering"
   ]
  },
  {
   "cell_type": "markdown",
   "metadata": {},
   "source": [
    "### The top books which have both Contant and Rate similarity"
   ]
  },
  {
   "cell_type": "code",
   "execution_count": 15,
   "metadata": {},
   "outputs": [
    {
     "name": "stdout",
     "output_type": "stream",
     "text": [
      "[The top books which have both content and rate similarity]\n",
      "\n",
      "\n",
      "Top books recommended with cosine metric:\n",
      "\n",
      "- Sea Glass: A Novel\n",
      "- The Beach House\n",
      "- White Oleander : A Novel\n",
      "- The Jester\n",
      "- The Little Friend\n",
      "- In Her Shoes : A Novel\n",
      "- Hard Eight : A Stephanie Plum Novel (A Stephanie Plum Novel)\n",
      "- Middlesex: A Novel\n",
      "- Now You See Me\n",
      "- Coast Road: A Novel\n",
      "\n",
      "Top books recommended with pearson metric:\n",
      "\n",
      "- Nine Stories\n",
      "- Me Talk Pretty One Day\n",
      "- The Dogs of Babel (Today Show Book Club #12)\n",
      "- The Hours: A Novel\n",
      "- 1st to Die: A Novel\n",
      "- The Nanny Diaries: A Novel\n",
      "- Midwives: A Novel\n"
     ]
    }
   ],
   "source": [
    "print(\"[The top books which have both content and rate similarity]\\n\")\n",
    "for metric in ['cosine', 'pearson']:\n",
    "    print('\\nTop books recommended with {} metric:\\n'.format(metric))\n",
    "    col = 'book_c' if metric is 'cosine' else 'book_p'\n",
    "    for book in book_recommended:\n",
    "        if book in collaborative_outputs[col].tolist():\n",
    "            print('-', book)"
   ]
  },
  {
   "cell_type": "markdown",
   "metadata": {},
   "source": [
    "### The top users which have both Contant and Rate similarity"
   ]
  },
  {
   "cell_type": "code",
   "execution_count": 16,
   "metadata": {},
   "outputs": [
    {
     "name": "stdout",
     "output_type": "stream",
     "text": [
      "[The top users which have both content and rate similarity]\n",
      "\n",
      "\n",
      "Top users recommended with cosine metric:\n",
      "\n",
      "- 273\n",
      "- 860\n",
      "- 586\n",
      "- 2184\n",
      "\n",
      "Top users recommended with pearson metric:\n",
      "\n",
      "- 273\n",
      "- 860\n",
      "- 586\n",
      "- 2184\n"
     ]
    }
   ],
   "source": [
    "print(\"[The top users which have both content and rate similarity]\\n\")\n",
    "for metric in ['cosine', 'pearson']:\n",
    "    print('\\nTop users recommended with {} metric:\\n'.format(metric))\n",
    "    col = 'user_c' if metric is 'cosine' else 'user_p'\n",
    "    for user in user_recommended:\n",
    "        if user in collaborative_outputs[col].tolist():\n",
    "            print('-', user)"
   ]
  },
  {
   "cell_type": "code",
   "execution_count": null,
   "metadata": {},
   "outputs": [],
   "source": []
  },
  {
   "cell_type": "code",
   "execution_count": null,
   "metadata": {},
   "outputs": [],
   "source": []
  }
 ],
 "metadata": {
  "kernelspec": {
   "display_name": "Python 3",
   "language": "python",
   "name": "python3"
  },
  "language_info": {
   "codemirror_mode": {
    "name": "ipython",
    "version": 3
   },
   "file_extension": ".py",
   "mimetype": "text/x-python",
   "name": "python",
   "nbconvert_exporter": "python",
   "pygments_lexer": "ipython3",
   "version": "3.7.8"
  }
 },
 "nbformat": 4,
 "nbformat_minor": 4
}
