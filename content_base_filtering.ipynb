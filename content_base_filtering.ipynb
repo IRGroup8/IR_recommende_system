{
 "cells": [
  {
   "cell_type": "code",
   "execution_count": 1,
   "metadata": {},
   "outputs": [],
   "source": [
    "import numpy as np\n",
    "import pandas as pd\n",
    "from sklearn.metrics.pairwise import cosine_similarity\n",
    "from sklearn.metrics import mean_squared_error\n",
    "from sklearn.model_selection import train_test_split\n",
    "from sklearn.feature_extraction.text import TfidfVectorizer\n",
    "from sklearn.metrics.pairwise import linear_kernel\n",
    "import warnings\n",
    "warnings.filterwarnings(\"ignore\")"
   ]
  },
  {
   "cell_type": "code",
   "execution_count": 2,
   "metadata": {},
   "outputs": [],
   "source": [
    "dataset = pd.read_csv('preprocessed_ratings.csv', sep=',', error_bad_lines=False, encoding='latin-1')"
   ]
  },
  {
   "cell_type": "code",
   "execution_count": 3,
   "metadata": {
    "scrolled": true
   },
   "outputs": [
    {
     "data": {
      "text/html": [
       "<div>\n",
       "<style scoped>\n",
       "    .dataframe tbody tr th:only-of-type {\n",
       "        vertical-align: middle;\n",
       "    }\n",
       "\n",
       "    .dataframe tbody tr th {\n",
       "        vertical-align: top;\n",
       "    }\n",
       "\n",
       "    .dataframe thead th {\n",
       "        text-align: right;\n",
       "    }\n",
       "</style>\n",
       "<table border=\"1\" class=\"dataframe\">\n",
       "  <thead>\n",
       "    <tr style=\"text-align: right;\">\n",
       "      <th></th>\n",
       "      <th>User_ID</th>\n",
       "      <th>ISBN</th>\n",
       "      <th>Book_Rating</th>\n",
       "      <th>Book_Title</th>\n",
       "      <th>Book_Author</th>\n",
       "      <th>Year_Of_Publication</th>\n",
       "      <th>Publisher</th>\n",
       "      <th>Location</th>\n",
       "      <th>Age</th>\n",
       "    </tr>\n",
       "  </thead>\n",
       "  <tbody>\n",
       "    <tr>\n",
       "      <th>0</th>\n",
       "      <td>53</td>\n",
       "      <td>451</td>\n",
       "      <td>0</td>\n",
       "      <td>Flesh Tones: A Novel</td>\n",
       "      <td>M. J. Rose</td>\n",
       "      <td>2002</td>\n",
       "      <td>Ballantine Books</td>\n",
       "      <td>strafford, missouri, usa</td>\n",
       "      <td>34.0</td>\n",
       "    </tr>\n",
       "    <tr>\n",
       "      <th>1</th>\n",
       "      <td>53</td>\n",
       "      <td>280</td>\n",
       "      <td>0</td>\n",
       "      <td>The Lovely Bones: A Novel</td>\n",
       "      <td>Alice Sebold</td>\n",
       "      <td>2002</td>\n",
       "      <td>Little, Brown</td>\n",
       "      <td>strafford, missouri, usa</td>\n",
       "      <td>34.0</td>\n",
       "    </tr>\n",
       "    <tr>\n",
       "      <th>2</th>\n",
       "      <td>53</td>\n",
       "      <td>647</td>\n",
       "      <td>0</td>\n",
       "      <td>The Da Vinci Code</td>\n",
       "      <td>Dan Brown</td>\n",
       "      <td>2003</td>\n",
       "      <td>Doubleday</td>\n",
       "      <td>strafford, missouri, usa</td>\n",
       "      <td>34.0</td>\n",
       "    </tr>\n",
       "    <tr>\n",
       "      <th>3</th>\n",
       "      <td>53</td>\n",
       "      <td>2028</td>\n",
       "      <td>0</td>\n",
       "      <td>Wild Animus</td>\n",
       "      <td>Rich Shapero</td>\n",
       "      <td>2004</td>\n",
       "      <td>Too Far</td>\n",
       "      <td>strafford, missouri, usa</td>\n",
       "      <td>34.0</td>\n",
       "    </tr>\n",
       "    <tr>\n",
       "      <th>4</th>\n",
       "      <td>53</td>\n",
       "      <td>241</td>\n",
       "      <td>0</td>\n",
       "      <td>Four To Score (A Stephanie Plum Novel)</td>\n",
       "      <td>Janet Evanovich</td>\n",
       "      <td>1999</td>\n",
       "      <td>St. Martin's Paperbacks</td>\n",
       "      <td>strafford, missouri, usa</td>\n",
       "      <td>34.0</td>\n",
       "    </tr>\n",
       "    <tr>\n",
       "      <th>...</th>\n",
       "      <td>...</td>\n",
       "      <td>...</td>\n",
       "      <td>...</td>\n",
       "      <td>...</td>\n",
       "      <td>...</td>\n",
       "      <td>...</td>\n",
       "      <td>...</td>\n",
       "      <td>...</td>\n",
       "      <td>...</td>\n",
       "    </tr>\n",
       "    <tr>\n",
       "      <th>137568</th>\n",
       "      <td>482</td>\n",
       "      <td>1739</td>\n",
       "      <td>8</td>\n",
       "      <td>Seven Habits Of Highly Effective People</td>\n",
       "      <td>Stephen R. Covey</td>\n",
       "      <td>1990</td>\n",
       "      <td>Free Press</td>\n",
       "      <td>n/a, channel islands, guernsey</td>\n",
       "      <td>35.0</td>\n",
       "    </tr>\n",
       "    <tr>\n",
       "      <th>137569</th>\n",
       "      <td>482</td>\n",
       "      <td>892</td>\n",
       "      <td>0</td>\n",
       "      <td>Illusions: The Adventures of a Reluctant Messiah</td>\n",
       "      <td>Richard Bach</td>\n",
       "      <td>1994</td>\n",
       "      <td>Dell Publishing Company</td>\n",
       "      <td>n/a, channel islands, guernsey</td>\n",
       "      <td>35.0</td>\n",
       "    </tr>\n",
       "    <tr>\n",
       "      <th>137570</th>\n",
       "      <td>1666</td>\n",
       "      <td>16</td>\n",
       "      <td>9</td>\n",
       "      <td>The Professor and the Madman</td>\n",
       "      <td>Simon Winchester</td>\n",
       "      <td>1998</td>\n",
       "      <td>HarperCollins Publishers</td>\n",
       "      <td>kansas city, missouri, usa</td>\n",
       "      <td>44.0</td>\n",
       "    </tr>\n",
       "    <tr>\n",
       "      <th>137571</th>\n",
       "      <td>1666</td>\n",
       "      <td>1705</td>\n",
       "      <td>5</td>\n",
       "      <td>ROAD LESS TRAVELED : A New Psychology of Love,...</td>\n",
       "      <td>M. Scott Peck</td>\n",
       "      <td>1980</td>\n",
       "      <td>Touchstone</td>\n",
       "      <td>kansas city, missouri, usa</td>\n",
       "      <td>44.0</td>\n",
       "    </tr>\n",
       "    <tr>\n",
       "      <th>137572</th>\n",
       "      <td>2580</td>\n",
       "      <td>568</td>\n",
       "      <td>0</td>\n",
       "      <td>The Magic of You (Malory Novels (Paperback))</td>\n",
       "      <td>Johanna Lindsey</td>\n",
       "      <td>1993</td>\n",
       "      <td>Avon</td>\n",
       "      <td>oak ridge, ,</td>\n",
       "      <td>NaN</td>\n",
       "    </tr>\n",
       "  </tbody>\n",
       "</table>\n",
       "<p>137573 rows × 9 columns</p>\n",
       "</div>"
      ],
      "text/plain": [
       "        User_ID  ISBN  Book_Rating  \\\n",
       "0            53   451            0   \n",
       "1            53   280            0   \n",
       "2            53   647            0   \n",
       "3            53  2028            0   \n",
       "4            53   241            0   \n",
       "...         ...   ...          ...   \n",
       "137568      482  1739            8   \n",
       "137569      482   892            0   \n",
       "137570     1666    16            9   \n",
       "137571     1666  1705            5   \n",
       "137572     2580   568            0   \n",
       "\n",
       "                                               Book_Title       Book_Author  \\\n",
       "0                                    Flesh Tones: A Novel        M. J. Rose   \n",
       "1                               The Lovely Bones: A Novel      Alice Sebold   \n",
       "2                                       The Da Vinci Code         Dan Brown   \n",
       "3                                             Wild Animus      Rich Shapero   \n",
       "4                  Four To Score (A Stephanie Plum Novel)   Janet Evanovich   \n",
       "...                                                   ...               ...   \n",
       "137568            Seven Habits Of Highly Effective People  Stephen R. Covey   \n",
       "137569   Illusions: The Adventures of a Reluctant Messiah      Richard Bach   \n",
       "137570                       The Professor and the Madman  Simon Winchester   \n",
       "137571  ROAD LESS TRAVELED : A New Psychology of Love,...     M. Scott Peck   \n",
       "137572       The Magic of You (Malory Novels (Paperback))   Johanna Lindsey   \n",
       "\n",
       "        Year_Of_Publication                 Publisher  \\\n",
       "0                      2002          Ballantine Books   \n",
       "1                      2002             Little, Brown   \n",
       "2                      2003                 Doubleday   \n",
       "3                      2004                   Too Far   \n",
       "4                      1999   St. Martin's Paperbacks   \n",
       "...                     ...                       ...   \n",
       "137568                 1990                Free Press   \n",
       "137569                 1994   Dell Publishing Company   \n",
       "137570                 1998  HarperCollins Publishers   \n",
       "137571                 1980                Touchstone   \n",
       "137572                 1993                      Avon   \n",
       "\n",
       "                              Location   Age  \n",
       "0             strafford, missouri, usa  34.0  \n",
       "1             strafford, missouri, usa  34.0  \n",
       "2             strafford, missouri, usa  34.0  \n",
       "3             strafford, missouri, usa  34.0  \n",
       "4             strafford, missouri, usa  34.0  \n",
       "...                                ...   ...  \n",
       "137568  n/a, channel islands, guernsey  35.0  \n",
       "137569  n/a, channel islands, guernsey  35.0  \n",
       "137570      kansas city, missouri, usa  44.0  \n",
       "137571      kansas city, missouri, usa  44.0  \n",
       "137572                    oak ridge, ,   NaN  \n",
       "\n",
       "[137573 rows x 9 columns]"
      ]
     },
     "execution_count": 3,
     "metadata": {},
     "output_type": "execute_result"
    }
   ],
   "source": [
    "dataset"
   ]
  },
  {
   "cell_type": "code",
   "execution_count": 4,
   "metadata": {
    "scrolled": true
   },
   "outputs": [],
   "source": [
    "books = dataset.filter(['Book_Title' , 'Book-Author', 'Year_Of_Publication','Publisher']).copy()\n",
    "books = books.drop_duplicates(subset='Book_Title', keep='first')\n",
    "\n",
    "users = dataset.filter(['User_ID', 'Location', 'Age']).copy()\n",
    "users = users.drop_duplicates(subset='User_ID', keep='first')"
   ]
  },
  {
   "cell_type": "code",
   "execution_count": 5,
   "metadata": {
    "scrolled": true
   },
   "outputs": [
    {
     "data": {
      "text/html": [
       "<div>\n",
       "<style scoped>\n",
       "    .dataframe tbody tr th:only-of-type {\n",
       "        vertical-align: middle;\n",
       "    }\n",
       "\n",
       "    .dataframe tbody tr th {\n",
       "        vertical-align: top;\n",
       "    }\n",
       "\n",
       "    .dataframe thead th {\n",
       "        text-align: right;\n",
       "    }\n",
       "</style>\n",
       "<table border=\"1\" class=\"dataframe\">\n",
       "  <thead>\n",
       "    <tr style=\"text-align: right;\">\n",
       "      <th></th>\n",
       "      <th>Book_Title</th>\n",
       "      <th>Year_Of_Publication</th>\n",
       "      <th>Publisher</th>\n",
       "    </tr>\n",
       "  </thead>\n",
       "  <tbody>\n",
       "    <tr>\n",
       "      <th>0</th>\n",
       "      <td>Flesh Tones: A Novel</td>\n",
       "      <td>2002</td>\n",
       "      <td>Ballantine Books</td>\n",
       "    </tr>\n",
       "    <tr>\n",
       "      <th>1</th>\n",
       "      <td>The Lovely Bones: A Novel</td>\n",
       "      <td>2002</td>\n",
       "      <td>Little, Brown</td>\n",
       "    </tr>\n",
       "    <tr>\n",
       "      <th>2</th>\n",
       "      <td>The Da Vinci Code</td>\n",
       "      <td>2003</td>\n",
       "      <td>Doubleday</td>\n",
       "    </tr>\n",
       "    <tr>\n",
       "      <th>3</th>\n",
       "      <td>Wild Animus</td>\n",
       "      <td>2004</td>\n",
       "      <td>Too Far</td>\n",
       "    </tr>\n",
       "    <tr>\n",
       "      <th>4</th>\n",
       "      <td>Four To Score (A Stephanie Plum Novel)</td>\n",
       "      <td>1999</td>\n",
       "      <td>St. Martin's Paperbacks</td>\n",
       "    </tr>\n",
       "    <tr>\n",
       "      <th>...</th>\n",
       "      <td>...</td>\n",
       "      <td>...</td>\n",
       "      <td>...</td>\n",
       "    </tr>\n",
       "    <tr>\n",
       "      <th>19416</th>\n",
       "      <td>Childhood's End</td>\n",
       "      <td>1987</td>\n",
       "      <td>Del Rey Books</td>\n",
       "    </tr>\n",
       "    <tr>\n",
       "      <th>20246</th>\n",
       "      <td>Creature</td>\n",
       "      <td>1990</td>\n",
       "      <td>Bantam Books</td>\n",
       "    </tr>\n",
       "    <tr>\n",
       "      <th>20958</th>\n",
       "      <td>Behind the Scenes at the Museum</td>\n",
       "      <td>1996</td>\n",
       "      <td>Black Swan</td>\n",
       "    </tr>\n",
       "    <tr>\n",
       "      <th>29271</th>\n",
       "      <td>Wuthering Heights (Penguin Classics)</td>\n",
       "      <td>1985</td>\n",
       "      <td>Penguin USA</td>\n",
       "    </tr>\n",
       "    <tr>\n",
       "      <th>44170</th>\n",
       "      <td>Northern Lights (His Dark Materials S.)</td>\n",
       "      <td>1998</td>\n",
       "      <td>Scholastic Point</td>\n",
       "    </tr>\n",
       "  </tbody>\n",
       "</table>\n",
       "<p>1913 rows × 3 columns</p>\n",
       "</div>"
      ],
      "text/plain": [
       "                                    Book_Title  Year_Of_Publication  \\\n",
       "0                         Flesh Tones: A Novel                 2002   \n",
       "1                    The Lovely Bones: A Novel                 2002   \n",
       "2                            The Da Vinci Code                 2003   \n",
       "3                                  Wild Animus                 2004   \n",
       "4       Four To Score (A Stephanie Plum Novel)                 1999   \n",
       "...                                        ...                  ...   \n",
       "19416                          Childhood's End                 1987   \n",
       "20246                                 Creature                 1990   \n",
       "20958          Behind the Scenes at the Museum                 1996   \n",
       "29271     Wuthering Heights (Penguin Classics)                 1985   \n",
       "44170  Northern Lights (His Dark Materials S.)                 1998   \n",
       "\n",
       "                     Publisher  \n",
       "0             Ballantine Books  \n",
       "1                Little, Brown  \n",
       "2                    Doubleday  \n",
       "3                      Too Far  \n",
       "4      St. Martin's Paperbacks  \n",
       "...                        ...  \n",
       "19416            Del Rey Books  \n",
       "20246             Bantam Books  \n",
       "20958               Black Swan  \n",
       "29271              Penguin USA  \n",
       "44170         Scholastic Point  \n",
       "\n",
       "[1913 rows x 3 columns]"
      ]
     },
     "execution_count": 5,
     "metadata": {},
     "output_type": "execute_result"
    }
   ],
   "source": [
    "books"
   ]
  },
  {
   "cell_type": "code",
   "execution_count": 6,
   "metadata": {},
   "outputs": [
    {
     "data": {
      "text/plain": [
       "User_ID                           53\n",
       "Location    strafford, missouri, usa\n",
       "Age                               34\n",
       "Name: 0, dtype: object"
      ]
     },
     "execution_count": 6,
     "metadata": {},
     "output_type": "execute_result"
    }
   ],
   "source": [
    "users.iloc[0]"
   ]
  },
  {
   "cell_type": "code",
   "execution_count": 7,
   "metadata": {},
   "outputs": [],
   "source": [
    "def similarity_matrix(dataset):\n",
    "    string = dataset.to_string(header=False,index=False).split('\\n')\n",
    "    tfidf = TfidfVectorizer(stop_words='english')\n",
    "    dataset_matrix = tfidf.fit_transform(string)\n",
    "    similar_matrix = linear_kernel(dataset_matrix,dataset_matrix)\n",
    "    return similar_matrix"
   ]
  },
  {
   "cell_type": "code",
   "execution_count": 8,
   "metadata": {},
   "outputs": [],
   "source": [
    "# book_str = books.to_string(header=False,index=False).split('\\n')\n"
   ]
  },
  {
   "cell_type": "code",
   "execution_count": 9,
   "metadata": {},
   "outputs": [],
   "source": [
    "# tfidf = TfidfVectorizer(stop_words='english')\n",
    "# books_matrix = tfidf.fit_transform(book_str)"
   ]
  },
  {
   "cell_type": "code",
   "execution_count": null,
   "metadata": {},
   "outputs": [],
   "source": []
  },
  {
   "cell_type": "code",
   "execution_count": 10,
   "metadata": {},
   "outputs": [],
   "source": [
    "# similarity_matrix = linear_kernel(books_matrix,books_matrix)"
   ]
  },
  {
   "cell_type": "code",
   "execution_count": 11,
   "metadata": {},
   "outputs": [
    {
     "data": {
      "text/plain": [
       "User_ID\n",
       "53           0\n",
       "94         100\n",
       "217        172\n",
       "273        612\n",
       "586        679\n",
       "         ...  \n",
       "1250    137561\n",
       "2332    137567\n",
       "482     137568\n",
       "1666    137570\n",
       "2580    137572\n",
       "Length: 2954, dtype: int64"
      ]
     },
     "execution_count": 11,
     "metadata": {},
     "output_type": "execute_result"
    }
   ],
   "source": [
    "book_mapping = pd.Series(books.index,index = books['Book_Title'])\n",
    "user_mapping = pd.Series(users.index,index = users['User_ID'])\n",
    "user_mapping"
   ]
  },
  {
   "cell_type": "code",
   "execution_count": 40,
   "metadata": {},
   "outputs": [],
   "source": [
    "def cal_sim_score(similarity_matrix,book_index):\n",
    "     #get similarity values with other books\n",
    "    #similarity_score is the list of index and similarity matrix\n",
    "    similarity_score = list(enumerate(similarity_matrix[book_index]))#sort in descending order the similarity score of book inputted with all the other books\n",
    "    similarity_score = sorted(similarity_score, key=lambda x: x[1], reverse=True)# Get the scores of the 15 most similar movies. Ignore the first movie.\n",
    "    similarity_score = similarity_score[1:101]#return movie names using the mapping series\n",
    "    return similarity_score"
   ]
  },
  {
   "cell_type": "code",
   "execution_count": 41,
   "metadata": {},
   "outputs": [],
   "source": [
    "def recommend_books(book):\n",
    "    book_index = book_mapping[book]\n",
    "    sim_matrix = similarity_matrix(books)\n",
    "    similarity_score= cal_sim_score(sim_matrix,book_index)\n",
    "    book_indices = [i[0] for i in similarity_score]\n",
    "    return (books['Book_Title'].iloc[book_indices])"
   ]
  },
  {
   "cell_type": "code",
   "execution_count": 42,
   "metadata": {},
   "outputs": [],
   "source": [
    "def similar_users(user):\n",
    "    user_index = user_mapping[user]\n",
    "    sim_matrix = similarity_matrix(users)\n",
    "    similarity_score = cal_sim_score(sim_matrix,user_index)\n",
    "    user_indices = [i[0] for i in similarity_score]\n",
    "    return (users['User_ID'].iloc[user_indices])"
   ]
  },
  {
   "cell_type": "code",
   "execution_count": 43,
   "metadata": {},
   "outputs": [
    {
     "data": {
      "text/plain": [
       "832              The Lovely Bones\n",
       "529            Sea Glass: A Novel\n",
       "221               The Beach House\n",
       "1032                 Nine Stories\n",
       "240      White Oleander : A Novel\n",
       "958            All He Ever Wanted\n",
       "931               Four Blind Mice\n",
       "939                The Lake House\n",
       "17                     The Jester\n",
       "930     The Big Bad Wolf: A Novel\n",
       "Name: Book_Title, dtype: object"
      ]
     },
     "execution_count": 43,
     "metadata": {},
     "output_type": "execute_result"
    }
   ],
   "source": [
    "book_recommended = recommend_books('The Lovely Bones: A Novel')\n",
    "book_recommended[:10]"
   ]
  },
  {
   "cell_type": "code",
   "execution_count": 44,
   "metadata": {},
   "outputs": [
    {
     "data": {
      "text/plain": [
       "132009    1829\n",
       "113138     359\n",
       "97148     1645\n",
       "93796     1090\n",
       "95310     1979\n",
       "          ... \n",
       "99430     1911\n",
       "119227     265\n",
       "126910     490\n",
       "20528     2730\n",
       "85320     1078\n",
       "Name: User_ID, Length: 100, dtype: int64"
      ]
     },
     "execution_count": 44,
     "metadata": {},
     "output_type": "execute_result"
    }
   ],
   "source": [
    "similar_users(53)"
   ]
  },
  {
   "cell_type": "code",
   "execution_count": null,
   "metadata": {},
   "outputs": [],
   "source": []
  },
  {
   "cell_type": "code",
   "execution_count": 47,
   "metadata": {},
   "outputs": [
    {
     "data": {
      "text/html": [
       "<div>\n",
       "<style scoped>\n",
       "    .dataframe tbody tr th:only-of-type {\n",
       "        vertical-align: middle;\n",
       "    }\n",
       "\n",
       "    .dataframe tbody tr th {\n",
       "        vertical-align: top;\n",
       "    }\n",
       "\n",
       "    .dataframe thead th {\n",
       "        text-align: right;\n",
       "    }\n",
       "</style>\n",
       "<table border=\"1\" class=\"dataframe\">\n",
       "  <thead>\n",
       "    <tr style=\"text-align: right;\">\n",
       "      <th></th>\n",
       "      <th>book_c</th>\n",
       "      <th>book_p</th>\n",
       "      <th>user_c</th>\n",
       "      <th>user_p</th>\n",
       "    </tr>\n",
       "  </thead>\n",
       "  <tbody>\n",
       "    <tr>\n",
       "      <th>0</th>\n",
       "      <td>The Last Juror</td>\n",
       "      <td>Split Second</td>\n",
       "      <td>2184.0</td>\n",
       "      <td>1414.0</td>\n",
       "    </tr>\n",
       "    <tr>\n",
       "      <th>1</th>\n",
       "      <td>American Gods: A Novel</td>\n",
       "      <td>Ruby (Landry)</td>\n",
       "      <td>273.0</td>\n",
       "      <td>2397.0</td>\n",
       "    </tr>\n",
       "    <tr>\n",
       "      <th>2</th>\n",
       "      <td>A Patchwork Planet</td>\n",
       "      <td>Coraline</td>\n",
       "      <td>812.0</td>\n",
       "      <td>1288.0</td>\n",
       "    </tr>\n",
       "    <tr>\n",
       "      <th>3</th>\n",
       "      <td>Now You See Me</td>\n",
       "      <td>Blow Fly: A Scarpetta Novel</td>\n",
       "      <td>1288.0</td>\n",
       "      <td>812.0</td>\n",
       "    </tr>\n",
       "    <tr>\n",
       "      <th>4</th>\n",
       "      <td>Gone with the Wind</td>\n",
       "      <td>2nd Chance</td>\n",
       "      <td>860.0</td>\n",
       "      <td>860.0</td>\n",
       "    </tr>\n",
       "  </tbody>\n",
       "</table>\n",
       "</div>"
      ],
      "text/plain": [
       "                   book_c                       book_p  user_c  user_p\n",
       "0          The Last Juror                 Split Second  2184.0  1414.0\n",
       "1  American Gods: A Novel                Ruby (Landry)   273.0  2397.0\n",
       "2      A Patchwork Planet                     Coraline   812.0  1288.0\n",
       "3          Now You See Me  Blow Fly: A Scarpetta Novel  1288.0   812.0\n",
       "4      Gone with the Wind                   2nd Chance   860.0   860.0"
      ]
     },
     "execution_count": 47,
     "metadata": {},
     "output_type": "execute_result"
    }
   ],
   "source": [
    "collaborative_outputs = pd.read_csv('collaborativeOutputs.csv')\n",
    "collaborative_outputs.head()"
   ]
  },
  {
   "cell_type": "markdown",
   "metadata": {},
   "source": [
    "### Here we go :)\n",
    "### The top books which have both Contant and Rate similarity. The combination of a Collaborative and Content-base filtering"
   ]
  },
  {
   "cell_type": "code",
<<<<<<< HEAD
   "execution_count": 77,
   "metadata": {},
   "outputs": [
    {
     "name": "stdout",
     "output_type": "stream",
     "text": [
      "[The top books which have both content and rate similarity]\n",
      "\n",
      "\n",
      "Top books recommended with cosine metric:\n",
      "\n",
      "- Sea Glass: A Novel\n",
      "- The Beach House\n",
      "- White Oleander : A Novel\n",
      "- The Jester\n",
      "- The Little Friend\n",
      "- In Her Shoes : A Novel\n",
      "- Hard Eight : A Stephanie Plum Novel (A Stephanie Plum Novel)\n",
      "- Middlesex: A Novel\n",
      "- Now You See Me\n",
      "- Coast Road: A Novel\n",
      "\n",
      "Top books recommended with pearson metric:\n",
      "\n",
      "- Nine Stories\n",
      "- Me Talk Pretty One Day\n",
      "- The Dogs of Babel (Today Show Book Club #12)\n",
      "- The Hours: A Novel\n",
      "- 1st to Die: A Novel\n",
      "- The Nanny Diaries: A Novel\n",
      "- Midwives: A Novel\n"
     ]
    }
   ],
   "source": [
    "print(\"[The top books which have both content and rate similarity]\\n\")\n",
    "for metric in ['cosine', 'pearson']:\n",
    "    print('\\nTop books recommended with {} metric:\\n'.format(metric))\n",
    "    col = 'book_c' if metric is 'cosine' else 'book_p'\n",
    "    for book in book_recommended:\n",
    "        if book in collaborative_outputs[col].tolist():\n",
    "            print('-', book)"
=======
   "execution_count": 17,
   "metadata": {},
   "outputs": [
    {
     "data": {
      "text/plain": [
       "132009    1829\n",
       "113138     359\n",
       "97148     1645\n",
       "93796     1090\n",
       "95310     1979\n",
       "131101    1466\n",
       "126013    1164\n",
       "131995    2877\n",
       "120075     910\n",
       "30588     2716\n",
       "102634    1292\n",
       "5519       285\n",
       "61801      161\n",
       "76190     1246\n",
       "Name: User_ID, dtype: int64"
      ]
     },
     "execution_count": 17,
     "metadata": {},
     "output_type": "execute_result"
    }
   ],
   "source": [
    "similar_users(53)"
>>>>>>> 184cc4ac70facd6c87fad8033b7023d0f5355c22
   ]
  },
  {
   "cell_type": "code",
   "execution_count": null,
   "metadata": {},
   "outputs": [],
   "source": []
  },
  {
   "cell_type": "code",
   "execution_count": null,
   "metadata": {},
   "outputs": [],
   "source": []
  }
 ],
 "metadata": {
  "kernelspec": {
   "display_name": "Python 3",
   "language": "python",
   "name": "python3"
  },
  "language_info": {
   "codemirror_mode": {
    "name": "ipython",
    "version": 3
   },
   "file_extension": ".py",
   "mimetype": "text/x-python",
   "name": "python",
   "nbconvert_exporter": "python",
   "pygments_lexer": "ipython3",
   "version": "3.8.6"
  }
 },
 "nbformat": 4,
 "nbformat_minor": 4
}
