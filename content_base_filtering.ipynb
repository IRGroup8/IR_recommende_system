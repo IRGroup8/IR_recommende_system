{
 "cells": [
  {
   "cell_type": "code",
   "execution_count": 1,
   "metadata": {},
   "outputs": [],
   "source": [
    "import numpy as np\n",
    "import pandas as pd\n",
    "from sklearn.metrics.pairwise import cosine_similarity\n",
    "from sklearn.metrics import mean_squared_error\n",
    "from sklearn.model_selection import train_test_split\n",
    "from sklearn.feature_extraction.text import TfidfVectorizer\n",
    "from sklearn.metrics.pairwise import linear_kernel\n",
    "import warnings\n",
    "warnings.filterwarnings(\"ignore\")"
   ]
  },
  {
   "cell_type": "code",
   "execution_count": 2,
   "metadata": {},
   "outputs": [],
   "source": [
    "dataset = pd.read_csv('preprocessed_ratings.csv', sep=',', error_bad_lines=False, encoding='latin-1')"
   ]
  },
  {
   "cell_type": "code",
   "execution_count": 3,
   "metadata": {
    "scrolled": true
   },
   "outputs": [
    {
     "data": {
      "text/html": [
       "<div>\n",
       "<style scoped>\n",
       "    .dataframe tbody tr th:only-of-type {\n",
       "        vertical-align: middle;\n",
       "    }\n",
       "\n",
       "    .dataframe tbody tr th {\n",
       "        vertical-align: top;\n",
       "    }\n",
       "\n",
       "    .dataframe thead th {\n",
       "        text-align: right;\n",
       "    }\n",
       "</style>\n",
       "<table border=\"1\" class=\"dataframe\">\n",
       "  <thead>\n",
       "    <tr style=\"text-align: right;\">\n",
       "      <th></th>\n",
       "      <th>User_ID</th>\n",
       "      <th>ISBN</th>\n",
       "      <th>Book_Rating</th>\n",
       "      <th>Book_Title</th>\n",
       "      <th>Book-Author</th>\n",
       "      <th>Year_Of_Publication</th>\n",
       "      <th>Publisher</th>\n",
       "      <th>Location</th>\n",
       "      <th>Age</th>\n",
       "    </tr>\n",
       "  </thead>\n",
       "  <tbody>\n",
       "    <tr>\n",
       "      <th>0</th>\n",
       "      <td>53</td>\n",
       "      <td>451</td>\n",
       "      <td>0</td>\n",
       "      <td>Flesh Tones: A Novel</td>\n",
       "      <td>M. J. Rose</td>\n",
       "      <td>2002</td>\n",
       "      <td>Ballantine Books</td>\n",
       "      <td>strafford, missouri, usa</td>\n",
       "      <td>34.0</td>\n",
       "    </tr>\n",
       "    <tr>\n",
       "      <th>1</th>\n",
       "      <td>53</td>\n",
       "      <td>280</td>\n",
       "      <td>0</td>\n",
       "      <td>The Lovely Bones: A Novel</td>\n",
       "      <td>Alice Sebold</td>\n",
       "      <td>2002</td>\n",
       "      <td>Little, Brown</td>\n",
       "      <td>strafford, missouri, usa</td>\n",
       "      <td>34.0</td>\n",
       "    </tr>\n",
       "    <tr>\n",
       "      <th>2</th>\n",
       "      <td>53</td>\n",
       "      <td>647</td>\n",
       "      <td>0</td>\n",
       "      <td>The Da Vinci Code</td>\n",
       "      <td>Dan Brown</td>\n",
       "      <td>2003</td>\n",
       "      <td>Doubleday</td>\n",
       "      <td>strafford, missouri, usa</td>\n",
       "      <td>34.0</td>\n",
       "    </tr>\n",
       "    <tr>\n",
       "      <th>3</th>\n",
       "      <td>53</td>\n",
       "      <td>2028</td>\n",
       "      <td>0</td>\n",
       "      <td>Wild Animus</td>\n",
       "      <td>Rich Shapero</td>\n",
       "      <td>2004</td>\n",
       "      <td>Too Far</td>\n",
       "      <td>strafford, missouri, usa</td>\n",
       "      <td>34.0</td>\n",
       "    </tr>\n",
       "    <tr>\n",
       "      <th>4</th>\n",
       "      <td>53</td>\n",
       "      <td>241</td>\n",
       "      <td>0</td>\n",
       "      <td>Four To Score (A Stephanie Plum Novel)</td>\n",
       "      <td>Janet Evanovich</td>\n",
       "      <td>1999</td>\n",
       "      <td>St. Martin's Paperbacks</td>\n",
       "      <td>strafford, missouri, usa</td>\n",
       "      <td>34.0</td>\n",
       "    </tr>\n",
       "    <tr>\n",
       "      <th>...</th>\n",
       "      <td>...</td>\n",
       "      <td>...</td>\n",
       "      <td>...</td>\n",
       "      <td>...</td>\n",
       "      <td>...</td>\n",
       "      <td>...</td>\n",
       "      <td>...</td>\n",
       "      <td>...</td>\n",
       "      <td>...</td>\n",
       "    </tr>\n",
       "    <tr>\n",
       "      <th>137568</th>\n",
       "      <td>482</td>\n",
       "      <td>1739</td>\n",
       "      <td>8</td>\n",
       "      <td>Seven Habits Of Highly Effective People</td>\n",
       "      <td>Stephen R. Covey</td>\n",
       "      <td>1990</td>\n",
       "      <td>Free Press</td>\n",
       "      <td>n/a, channel islands, guernsey</td>\n",
       "      <td>35.0</td>\n",
       "    </tr>\n",
       "    <tr>\n",
       "      <th>137569</th>\n",
       "      <td>482</td>\n",
       "      <td>892</td>\n",
       "      <td>0</td>\n",
       "      <td>Illusions: The Adventures of a Reluctant Messiah</td>\n",
       "      <td>Richard Bach</td>\n",
       "      <td>1994</td>\n",
       "      <td>Dell Publishing Company</td>\n",
       "      <td>n/a, channel islands, guernsey</td>\n",
       "      <td>35.0</td>\n",
       "    </tr>\n",
       "    <tr>\n",
       "      <th>137570</th>\n",
       "      <td>1666</td>\n",
       "      <td>16</td>\n",
       "      <td>9</td>\n",
       "      <td>The Professor and the Madman</td>\n",
       "      <td>Simon Winchester</td>\n",
       "      <td>1998</td>\n",
       "      <td>HarperCollins Publishers</td>\n",
       "      <td>kansas city, missouri, usa</td>\n",
       "      <td>44.0</td>\n",
       "    </tr>\n",
       "    <tr>\n",
       "      <th>137571</th>\n",
       "      <td>1666</td>\n",
       "      <td>1705</td>\n",
       "      <td>5</td>\n",
       "      <td>ROAD LESS TRAVELED : A New Psychology of Love,...</td>\n",
       "      <td>M. Scott Peck</td>\n",
       "      <td>1980</td>\n",
       "      <td>Touchstone</td>\n",
       "      <td>kansas city, missouri, usa</td>\n",
       "      <td>44.0</td>\n",
       "    </tr>\n",
       "    <tr>\n",
       "      <th>137572</th>\n",
       "      <td>2580</td>\n",
       "      <td>568</td>\n",
       "      <td>0</td>\n",
       "      <td>The Magic of You (Malory Novels (Paperback))</td>\n",
       "      <td>Johanna Lindsey</td>\n",
       "      <td>1993</td>\n",
       "      <td>Avon</td>\n",
       "      <td>oak ridge, ,</td>\n",
       "      <td>NaN</td>\n",
       "    </tr>\n",
       "  </tbody>\n",
       "</table>\n",
       "<p>137573 rows × 9 columns</p>\n",
       "</div>"
      ],
      "text/plain": [
       "        User_ID  ISBN  Book_Rating  \\\n",
       "0            53   451            0   \n",
       "1            53   280            0   \n",
       "2            53   647            0   \n",
       "3            53  2028            0   \n",
       "4            53   241            0   \n",
       "...         ...   ...          ...   \n",
       "137568      482  1739            8   \n",
       "137569      482   892            0   \n",
       "137570     1666    16            9   \n",
       "137571     1666  1705            5   \n",
       "137572     2580   568            0   \n",
       "\n",
       "                                               Book_Title       Book-Author  \\\n",
       "0                                    Flesh Tones: A Novel        M. J. Rose   \n",
       "1                               The Lovely Bones: A Novel      Alice Sebold   \n",
       "2                                       The Da Vinci Code         Dan Brown   \n",
       "3                                             Wild Animus      Rich Shapero   \n",
       "4                  Four To Score (A Stephanie Plum Novel)   Janet Evanovich   \n",
       "...                                                   ...               ...   \n",
       "137568            Seven Habits Of Highly Effective People  Stephen R. Covey   \n",
       "137569   Illusions: The Adventures of a Reluctant Messiah      Richard Bach   \n",
       "137570                       The Professor and the Madman  Simon Winchester   \n",
       "137571  ROAD LESS TRAVELED : A New Psychology of Love,...     M. Scott Peck   \n",
       "137572       The Magic of You (Malory Novels (Paperback))   Johanna Lindsey   \n",
       "\n",
       "        Year_Of_Publication                 Publisher  \\\n",
       "0                      2002          Ballantine Books   \n",
       "1                      2002             Little, Brown   \n",
       "2                      2003                 Doubleday   \n",
       "3                      2004                   Too Far   \n",
       "4                      1999   St. Martin's Paperbacks   \n",
       "...                     ...                       ...   \n",
       "137568                 1990                Free Press   \n",
       "137569                 1994   Dell Publishing Company   \n",
       "137570                 1998  HarperCollins Publishers   \n",
       "137571                 1980                Touchstone   \n",
       "137572                 1993                      Avon   \n",
       "\n",
       "                              Location   Age  \n",
       "0             strafford, missouri, usa  34.0  \n",
       "1             strafford, missouri, usa  34.0  \n",
       "2             strafford, missouri, usa  34.0  \n",
       "3             strafford, missouri, usa  34.0  \n",
       "4             strafford, missouri, usa  34.0  \n",
       "...                                ...   ...  \n",
       "137568  n/a, channel islands, guernsey  35.0  \n",
       "137569  n/a, channel islands, guernsey  35.0  \n",
       "137570      kansas city, missouri, usa  44.0  \n",
       "137571      kansas city, missouri, usa  44.0  \n",
       "137572                    oak ridge, ,   NaN  \n",
       "\n",
       "[137573 rows x 9 columns]"
      ]
     },
     "execution_count": 3,
     "metadata": {},
     "output_type": "execute_result"
    }
   ],
   "source": [
    "dataset"
   ]
  },
  {
   "cell_type": "code",
   "execution_count": 4,
   "metadata": {
    "scrolled": true
   },
   "outputs": [],
   "source": [
    "books = dataset.filter(['Book_Title' , 'Book-Author', 'Year_Of_Publication','Publisher']).copy()\n",
    "books = books.drop_duplicates(subset='Book_Title', keep='first')\n",
    "\n",
    "users = dataset.filter(['User_ID', 'Location', 'Age']).copy()\n",
    "users = users.drop_duplicates(subset='User_ID', keep='first')"
   ]
  },
  {
   "cell_type": "code",
   "execution_count": 5,
   "metadata": {
    "scrolled": true
   },
   "outputs": [
    {
     "data": {
      "text/html": [
       "<div>\n",
       "<style scoped>\n",
       "    .dataframe tbody tr th:only-of-type {\n",
       "        vertical-align: middle;\n",
       "    }\n",
       "\n",
       "    .dataframe tbody tr th {\n",
       "        vertical-align: top;\n",
       "    }\n",
       "\n",
       "    .dataframe thead th {\n",
       "        text-align: right;\n",
       "    }\n",
       "</style>\n",
       "<table border=\"1\" class=\"dataframe\">\n",
       "  <thead>\n",
       "    <tr style=\"text-align: right;\">\n",
       "      <th></th>\n",
       "      <th>Book_Title</th>\n",
       "      <th>Book-Author</th>\n",
       "      <th>Year_Of_Publication</th>\n",
       "      <th>Publisher</th>\n",
       "    </tr>\n",
       "  </thead>\n",
       "  <tbody>\n",
       "    <tr>\n",
       "      <th>0</th>\n",
       "      <td>Flesh Tones: A Novel</td>\n",
       "      <td>M. J. Rose</td>\n",
       "      <td>2002</td>\n",
       "      <td>Ballantine Books</td>\n",
       "    </tr>\n",
       "    <tr>\n",
       "      <th>1</th>\n",
       "      <td>The Lovely Bones: A Novel</td>\n",
       "      <td>Alice Sebold</td>\n",
       "      <td>2002</td>\n",
       "      <td>Little, Brown</td>\n",
       "    </tr>\n",
       "    <tr>\n",
       "      <th>2</th>\n",
       "      <td>The Da Vinci Code</td>\n",
       "      <td>Dan Brown</td>\n",
       "      <td>2003</td>\n",
       "      <td>Doubleday</td>\n",
       "    </tr>\n",
       "    <tr>\n",
       "      <th>3</th>\n",
       "      <td>Wild Animus</td>\n",
       "      <td>Rich Shapero</td>\n",
       "      <td>2004</td>\n",
       "      <td>Too Far</td>\n",
       "    </tr>\n",
       "    <tr>\n",
       "      <th>4</th>\n",
       "      <td>Four To Score (A Stephanie Plum Novel)</td>\n",
       "      <td>Janet Evanovich</td>\n",
       "      <td>1999</td>\n",
       "      <td>St. Martin's Paperbacks</td>\n",
       "    </tr>\n",
       "    <tr>\n",
       "      <th>...</th>\n",
       "      <td>...</td>\n",
       "      <td>...</td>\n",
       "      <td>...</td>\n",
       "      <td>...</td>\n",
       "    </tr>\n",
       "    <tr>\n",
       "      <th>19416</th>\n",
       "      <td>Childhood's End</td>\n",
       "      <td>Arthur C. Clarke</td>\n",
       "      <td>1987</td>\n",
       "      <td>Del Rey Books</td>\n",
       "    </tr>\n",
       "    <tr>\n",
       "      <th>20246</th>\n",
       "      <td>Creature</td>\n",
       "      <td>John Saul</td>\n",
       "      <td>1990</td>\n",
       "      <td>Bantam Books</td>\n",
       "    </tr>\n",
       "    <tr>\n",
       "      <th>20958</th>\n",
       "      <td>Behind the Scenes at the Museum</td>\n",
       "      <td>Kate Atkinson</td>\n",
       "      <td>1996</td>\n",
       "      <td>Black Swan</td>\n",
       "    </tr>\n",
       "    <tr>\n",
       "      <th>29271</th>\n",
       "      <td>Wuthering Heights (Penguin Classics)</td>\n",
       "      <td>Emily Bronte</td>\n",
       "      <td>1985</td>\n",
       "      <td>Penguin USA</td>\n",
       "    </tr>\n",
       "    <tr>\n",
       "      <th>44170</th>\n",
       "      <td>Northern Lights (His Dark Materials S.)</td>\n",
       "      <td>Philip Pullman</td>\n",
       "      <td>1998</td>\n",
       "      <td>Scholastic Point</td>\n",
       "    </tr>\n",
       "  </tbody>\n",
       "</table>\n",
       "<p>1913 rows × 4 columns</p>\n",
       "</div>"
      ],
      "text/plain": [
       "                                    Book_Title       Book-Author  \\\n",
       "0                         Flesh Tones: A Novel        M. J. Rose   \n",
       "1                    The Lovely Bones: A Novel      Alice Sebold   \n",
       "2                            The Da Vinci Code         Dan Brown   \n",
       "3                                  Wild Animus      Rich Shapero   \n",
       "4       Four To Score (A Stephanie Plum Novel)   Janet Evanovich   \n",
       "...                                        ...               ...   \n",
       "19416                          Childhood's End  Arthur C. Clarke   \n",
       "20246                                 Creature         John Saul   \n",
       "20958          Behind the Scenes at the Museum     Kate Atkinson   \n",
       "29271     Wuthering Heights (Penguin Classics)      Emily Bronte   \n",
       "44170  Northern Lights (His Dark Materials S.)    Philip Pullman   \n",
       "\n",
       "       Year_Of_Publication                Publisher  \n",
       "0                     2002         Ballantine Books  \n",
       "1                     2002            Little, Brown  \n",
       "2                     2003                Doubleday  \n",
       "3                     2004                  Too Far  \n",
       "4                     1999  St. Martin's Paperbacks  \n",
       "...                    ...                      ...  \n",
       "19416                 1987            Del Rey Books  \n",
       "20246                 1990             Bantam Books  \n",
       "20958                 1996               Black Swan  \n",
       "29271                 1985              Penguin USA  \n",
       "44170                 1998         Scholastic Point  \n",
       "\n",
       "[1913 rows x 4 columns]"
      ]
     },
     "execution_count": 5,
     "metadata": {},
     "output_type": "execute_result"
    }
   ],
   "source": [
    "books"
   ]
  },
  {
   "cell_type": "code",
   "execution_count": 6,
   "metadata": {},
   "outputs": [
    {
     "data": {
      "text/plain": [
       "User_ID                           53\n",
       "Location    strafford, missouri, usa\n",
       "Age                             34.0\n",
       "Name: 0, dtype: object"
      ]
     },
     "execution_count": 6,
     "metadata": {},
     "output_type": "execute_result"
    }
   ],
   "source": [
    "users.iloc[0]"
   ]
  },
  {
   "cell_type": "code",
   "execution_count": 7,
   "metadata": {},
   "outputs": [],
   "source": [
    "def similarity_matrix(dataset):\n",
    "    string = dataset.to_string(header=False,index=False).split('\\n')\n",
    "    tfidf = TfidfVectorizer(stop_words='english')\n",
    "    dataset_matrix = tfidf.fit_transform(string)\n",
    "    similar_matrix = linear_kernel(dataset_matrix,dataset_matrix)\n",
    "    return similar_matrix"
   ]
  },
  {
   "cell_type": "code",
   "execution_count": 8,
   "metadata": {},
   "outputs": [],
   "source": [
    "# book_str = books.to_string(header=False,index=False).split('\\n')\n"
   ]
  },
  {
   "cell_type": "code",
   "execution_count": 9,
   "metadata": {},
   "outputs": [],
   "source": [
    "# tfidf = TfidfVectorizer(stop_words='english')\n",
    "# books_matrix = tfidf.fit_transform(book_str)"
   ]
  },
  {
   "cell_type": "code",
   "execution_count": null,
   "metadata": {},
   "outputs": [],
   "source": []
  },
  {
   "cell_type": "code",
   "execution_count": 10,
   "metadata": {},
   "outputs": [],
   "source": [
    "# similarity_matrix = linear_kernel(books_matrix,books_matrix)"
   ]
  },
  {
   "cell_type": "code",
   "execution_count": 11,
   "metadata": {},
   "outputs": [
    {
     "data": {
      "text/plain": [
       "User_ID\n",
       "53           0\n",
       "94         100\n",
       "217        172\n",
       "273        612\n",
       "586        679\n",
       "         ...  \n",
       "1250    137561\n",
       "2332    137567\n",
       "482     137568\n",
       "1666    137570\n",
       "2580    137572\n",
       "Length: 2954, dtype: int64"
      ]
     },
     "execution_count": 11,
     "metadata": {},
     "output_type": "execute_result"
    }
   ],
   "source": [
    "book_mapping = pd.Series(books.index,index = books['Book_Title'])\n",
    "user_mapping = pd.Series(users.index,index = users['User_ID'])\n",
    "user_mapping"
   ]
  },
  {
   "cell_type": "code",
   "execution_count": 12,
   "metadata": {},
   "outputs": [],
   "source": [
    "def cal_sim_score(similarity_matrix,book_index):\n",
    "     #get similarity values with other books\n",
    "    #similarity_score is the list of index and similarity matrix\n",
    "    similarity_score = list(enumerate(similarity_matrix[book_index]))#sort in descending order the similarity score of book inputted with all the other books\n",
    "    similarity_score = sorted(similarity_score, key=lambda x: x[1], reverse=True)# Get the scores of the 15 most similar movies. Ignore the first movie.\n",
    "    similarity_score = similarity_score[1:15]#return movie names using the mapping series\n",
    "    return similarity_score"
   ]
  },
  {
   "cell_type": "code",
   "execution_count": 13,
   "metadata": {},
   "outputs": [],
   "source": [
    "def recommend_books(book):\n",
    "    book_index = book_mapping[book]\n",
    "    sim_matrix = similarity_matrix(books)\n",
    "    similarity_score= cal_sim_score(sim_matrix,book_index)\n",
    "    book_indices = [i[0] for i in similarity_score]\n",
    "    return (books['Book_Title'].iloc[book_indices])"
   ]
  },
  {
   "cell_type": "code",
   "execution_count": 14,
   "metadata": {},
   "outputs": [],
   "source": [
    "def similar_users(user):\n",
    "    user_index = user_mapping[user]\n",
    "    sim_matrix = similarity_matrix(users)\n",
    "    similarity_score = cal_sim_score(sim_matrix,user_index)\n",
    "    user_indices = [i[0] for i in similarity_score]\n",
    "    return (users['User_ID'].iloc[user_indices])"
   ]
  },
  {
   "cell_type": "code",
   "execution_count": 15,
   "metadata": {},
   "outputs": [
    {
     "data": {
      "text/plain": [
       "3836                                      Flesh and Blood\n",
       "1980                                          Rose Madder\n",
       "2139    Back When We Were Grownups : A Novel (Ballanti...\n",
       "697                                  Name of the Rose-Nla\n",
       "4904    What We Keep : A Novel (Ballantine Reader's Ci...\n",
       "1638                                         What We Keep\n",
       "336                                        P Is for Peril\n",
       "71                                        The Murder Book\n",
       "62      Big Stone Gap: A Novel (Ballantine Reader's Ci...\n",
       "1104     The Diary of Ellen Rimbauer: My Life at Rose Red\n",
       "77      Big Cherry Holler: A Big Stone Gap Novel (Ball...\n",
       "69                                            The Surgeon\n",
       "1330                             Billy Straight : A Novel\n",
       "337                                         Summer Island\n",
       "Name: Book_Title, dtype: object"
      ]
     },
     "execution_count": 15,
     "metadata": {},
     "output_type": "execute_result"
    }
   ],
   "source": [
    "recommend_books('Flesh Tones: A Novel')"
   ]
  },
  {
   "cell_type": "code",
   "execution_count": 17,
   "metadata": {},
   "outputs": [
    {
     "data": {
      "text/plain": [
       "132009    1829\n",
       "113138     359\n",
       "97148     1645\n",
       "93796     1090\n",
       "95310     1979\n",
       "131101    1466\n",
       "126013    1164\n",
       "131995    2877\n",
       "120075     910\n",
       "30588     2716\n",
       "102634    1292\n",
       "5519       285\n",
       "61801      161\n",
       "76190     1246\n",
       "Name: User_ID, dtype: int64"
      ]
     },
     "execution_count": 17,
     "metadata": {},
     "output_type": "execute_result"
    }
   ],
   "source": [
    "similar_users(53)"
   ]
  },
  {
   "cell_type": "code",
   "execution_count": null,
   "metadata": {},
   "outputs": [],
   "source": []
  }
 ],
 "metadata": {
  "kernelspec": {
   "display_name": "Python 3",
   "language": "python",
   "name": "python3"
  },
  "language_info": {
   "codemirror_mode": {
    "name": "ipython",
    "version": 3
   },
   "file_extension": ".py",
   "mimetype": "text/x-python",
   "name": "python",
   "nbconvert_exporter": "python",
   "pygments_lexer": "ipython3",
   "version": "3.8.6"
  }
 },
 "nbformat": 4,
 "nbformat_minor": 4
}
